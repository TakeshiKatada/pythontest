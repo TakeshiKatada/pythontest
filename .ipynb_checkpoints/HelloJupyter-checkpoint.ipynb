{
 "cells": [
  {
   "cell_type": "code",
   "execution_count": 1,
   "metadata": {
    "scrolled": true
   },
   "outputs": [
    {
     "name": "stdout",
     "output_type": "stream",
     "text": [
      "Hello Jupyter!!\n"
     ]
    }
   ],
   "source": [
    "print('Hello Jupyter!!')"
   ]
  },
  {
   "cell_type": "code",
   "execution_count": 2,
   "metadata": {
    "scrolled": true
   },
   "outputs": [
    {
     "ename": "SyntaxError",
     "evalue": "unexpected EOF while parsing (<ipython-input-2-e7e3bca4872c>, line 1)",
     "output_type": "error",
     "traceback": [
      "\u001b[0;36m  File \u001b[0;32m\"<ipython-input-2-e7e3bca4872c>\"\u001b[0;36m, line \u001b[0;32m1\u001b[0m\n\u001b[0;31m    print('Hello Jupyter!!'\u001b[0m\n\u001b[0m                           ^\u001b[0m\n\u001b[0;31mSyntaxError\u001b[0m\u001b[0;31m:\u001b[0m unexpected EOF while parsing\n"
     ]
    }
   ],
   "source": [
    "print('Hello Jupyter!!'"
   ]
  },
  {
   "cell_type": "code",
   "execution_count": 6,
   "metadata": {},
   "outputs": [
    {
     "name": "stdout",
     "output_type": "stream",
     "text": [
      "Hello Jupyter !!\n"
     ]
    }
   ],
   "source": [
    "your_name = 'Jupyter'\n",
    "\n",
    "def hello(name):\n",
    "    print('Hello {0} !!'.format(name))\n",
    "    \n",
    "hello(your_name)"
   ]
  },
  {
   "cell_type": "code",
   "execution_count": 7,
   "metadata": {},
   "outputs": [
    {
     "name": "stdout",
     "output_type": "stream",
     "text": [
      "Hello notebook !!\n"
     ]
    }
   ],
   "source": [
    "hello('notebook')"
   ]
  },
  {
   "cell_type": "code",
   "execution_count": 8,
   "metadata": {},
   "outputs": [
    {
     "data": {
      "text/plain": [
       "2.0"
      ]
     },
     "execution_count": 8,
     "metadata": {},
     "output_type": "execute_result"
    }
   ],
   "source": [
    "import math\n",
    "\n",
    "math.sqrt(4)"
   ]
  },
  {
   "cell_type": "code",
   "execution_count": 9,
   "metadata": {
    "scrolled": true
   },
   "outputs": [],
   "source": [
    "math.sqrt?"
   ]
  },
  {
   "cell_type": "code",
   "execution_count": 10,
   "metadata": {},
   "outputs": [],
   "source": [
    "your_name?"
   ]
  },
  {
   "cell_type": "code",
   "execution_count": 11,
   "metadata": {},
   "outputs": [
    {
     "data": {
      "text/plain": [
       "'Jupyter'"
      ]
     },
     "execution_count": 11,
     "metadata": {},
     "output_type": "execute_result"
    }
   ],
   "source": [
    "your_name"
   ]
  },
  {
   "cell_type": "markdown",
   "metadata": {},
   "source": [
    "#これは見出しです\n",
    "\n",
    "これは段落です。\n",
    "\n",
    "- 箇条書きも\n",
    "- このように表現できます。\n",
    "\n",
    "テーブルも記述できますね\n",
    "\n",
    "package|version\n",
    "-------|-------\n",
    "pandas|0.19.2\n",
    "matplotlib|2.0.0"
   ]
  },
  {
   "cell_type": "code",
   "execution_count": 12,
   "metadata": {},
   "outputs": [
    {
     "name": "stdout",
     "output_type": "stream",
     "text": [
      "##\r\n",
      "# Host Database\r\n",
      "#\r\n",
      "# localhost is used to configure the loopback interface\r\n",
      "# when the system is booting.  Do not change this entry.\r\n",
      "##\r\n",
      "127.0.0.1\tlocalhost\r\n",
      "255.255.255.255\tbroadcasthost\r\n",
      "::1             localhost\r\n"
     ]
    }
   ],
   "source": [
    "!cat /etc/hosts"
   ]
  },
  {
   "cell_type": "code",
   "execution_count": 13,
   "metadata": {},
   "outputs": [
    {
     "data": {
      "text/plain": [
       "'/Users/imac2/projects/notebooks'"
      ]
     },
     "execution_count": 13,
     "metadata": {},
     "output_type": "execute_result"
    }
   ],
   "source": [
    "%pwd"
   ]
  },
  {
   "cell_type": "code",
   "execution_count": 14,
   "metadata": {},
   "outputs": [
    {
     "data": {
      "text/plain": [
       "'/Users/imac2/projects/notebooks'"
      ]
     },
     "execution_count": 14,
     "metadata": {},
     "output_type": "execute_result"
    }
   ],
   "source": [
    "working_dir = %pwd\n",
    "working_dir"
   ]
  },
  {
   "cell_type": "code",
   "execution_count": 15,
   "metadata": {},
   "outputs": [
    {
     "name": "stdout",
     "output_type": "stream",
     "text": [
      "CPU times: user 230 µs, sys: 0 ns, total: 230 µs\n",
      "Wall time: 235 µs\n"
     ]
    },
    {
     "data": {
      "text/plain": [
       "49995000"
      ]
     },
     "execution_count": 15,
     "metadata": {},
     "output_type": "execute_result"
    }
   ],
   "source": [
    "%time sum(range(10000))"
   ]
  },
  {
   "cell_type": "code",
   "execution_count": 16,
   "metadata": {},
   "outputs": [
    {
     "name": "stdout",
     "output_type": "stream",
     "text": [
      "209 µs ± 3.33 µs per loop (mean ± std. dev. of 7 runs, 1000 loops each)\n"
     ]
    }
   ],
   "source": [
    "%timeit sum(range(10000))"
   ]
  },
  {
   "cell_type": "code",
   "execution_count": 17,
   "metadata": {},
   "outputs": [
    {
     "name": "stdout",
     "output_type": "stream",
     "text": [
      "221 µs ± 8.21 µs per loop (mean ± std. dev. of 5 runs, 2000 loops each)\n"
     ]
    }
   ],
   "source": [
    "%timeit -n 2000 -r 5 sum(range(10000))"
   ]
  },
  {
   "cell_type": "code",
   "execution_count": 18,
   "metadata": {},
   "outputs": [
    {
     "name": "stdout",
     "output_type": "stream",
     "text": [
      "72.6 µs ± 1.28 µs per loop (mean ± std. dev. of 3 runs, 1000 loops each)\n"
     ]
    }
   ],
   "source": [
    "%%timeit -n 1000 -r 3\n",
    "\n",
    "for i in range(1000):\n",
    "    i * 2"
   ]
  },
  {
   "cell_type": "code",
   "execution_count": 19,
   "metadata": {},
   "outputs": [
    {
     "name": "stdout",
     "output_type": "stream",
     "text": [
      "print('Hello Jupyter!!')\n",
      "print('Hello Jupyter!!'\n",
      "math.sqrt?\n",
      "your_name?\n",
      "your_name\n",
      "your_name = 'Jupyter'\n",
      "\n",
      "def hello(name):\n",
      "    print('Hello {0} !!'.format(name))\n",
      "    \n",
      "hello(your_name)\n",
      "hello('notebook')\n",
      "import math\n",
      "\n",
      "math.sqrt(4)\n",
      "math.sqrt?\n",
      "your_name?\n",
      "your_name\n",
      "!cat /etc/hosts\n",
      "%pwd\n",
      "working_dir = %pwd\n",
      "working_dir\n",
      "%time sum(range(10000))\n",
      "%timeit sum(range(10000))\n",
      "%timeit -n 2000 -r 5 sum(range(10000))\n",
      "%%timeit -n 1000 -r 3\n",
      "\n",
      "for i in range(1000):\n",
      "    i * 2\n",
      "%history\n",
      "sum(range(100))\n",
      "sum(range(1000))\n"
     ]
    },
    {
     "data": {
      "text/plain": [
       "499500"
      ]
     },
     "execution_count": 19,
     "metadata": {},
     "output_type": "execute_result"
    }
   ],
   "source": [
    "%history\n",
    "sum(range(100))\n",
    "sum(range(1000))"
   ]
  },
  {
   "cell_type": "code",
   "execution_count": 20,
   "metadata": {},
   "outputs": [
    {
     "name": "stdout",
     "output_type": "stream",
     "text": [
      "HelloJupyter.ipynb  Untitled.ipynb\r\n"
     ]
    }
   ],
   "source": [
    "%ls"
   ]
  },
  {
   "cell_type": "code",
   "execution_count": 21,
   "metadata": {},
   "outputs": [
    {
     "data": {
      "application/javascript": [
       "IPython.notebook.set_autosave_interval(130000)"
      ]
     },
     "metadata": {},
     "output_type": "display_data"
    },
    {
     "name": "stdout",
     "output_type": "stream",
     "text": [
      "Autosaving every 130 seconds\n"
     ]
    }
   ],
   "source": [
    "%autosave 130"
   ]
  },
  {
   "cell_type": "code",
   "execution_count": 22,
   "metadata": {},
   "outputs": [],
   "source": [
    "%matplotlib inline"
   ]
  },
  {
   "cell_type": "code",
   "execution_count": 23,
   "metadata": {},
   "outputs": [],
   "source": [
    "import numpy as np\n",
    "import matplotlib.pyplot as plt\n",
    "\n",
    "x = np.arange(0,10,0.2)\n",
    "y = np.sin(x)"
   ]
  },
  {
   "cell_type": "code",
   "execution_count": 24,
   "metadata": {},
   "outputs": [
    {
     "data": {
      "image/png": "[encoded data removed]",
      "text/plain": [
       "<Figure size 432x288 with 1 Axes>"
      ]
     },
     "metadata": {
      "needs_background": "light"
     },
     "output_type": "display_data"
    }
   ],
   "source": [
    "fig = plt.figure()\n",
    "ax = fig.add_subplot(111)\n",
    "\n",
    "ax.plot(x,y)\n",
    "plt.show()"
   ]
  },
  {
   "cell_type": "code",
   "execution_count": 25,
   "metadata": {},
   "outputs": [],
   "source": [
    "%matplotlib tk"
   ]
  },
  {
   "cell_type": "code",
   "execution_count": 26,
   "metadata": {},
   "outputs": [],
   "source": [
    "import numpy as np\n",
    "import matplotlib.pyplot as plt\n",
    "\n",
    "x = np.arange(0,10,0.2)\n",
    "y = np.sin(x)"
   ]
  },
  {
   "cell_type": "code",
   "execution_count": 27,
   "metadata": {
    "scrolled": true
   },
   "outputs": [
    {
     "data": {
      "image/png": "[encoded data removed]",
      "text/plain": [
       "<Figure size 432x288 with 1 Axes>"
      ]
     },
     "metadata": {
      "needs_background": "light"
     },
     "output_type": "display_data"
    }
   ],
   "source": [
    "fig = plt.figure()\n",
    "ax = fig.add_subplot(111)\n",
    "\n",
    "ax.plot(x,y)\n",
    "plt.show()"
   ]
  },
  {
   "cell_type": "code",
   "execution_count": 1,
   "metadata": {
    "scrolled": false
   },
   "outputs": [],
   "source": [
    "%matplotlib notebook"
   ]
  },
  {
   "cell_type": "code",
   "execution_count": 2,
   "metadata": {},
   "outputs": [],
   "source": [
    "import numpy as np\n",
    "import matplotlib.pyplot as plt\n",
    "\n",
    "x = np.arange(0,10,0.2)\n",
    "y = np.sin(x)"
   ]
  },
  {
   "cell_type": "code",
   "execution_count": 3,
   "metadata": {},
   "outputs": [
    {
     "data": {
      "application/javascript": [
       "/* Put everything inside the global mpl namespace */\n",
       "window.mpl = {};\n",
       "\n",
       "\n",
       "mpl.get_websocket_type = function() {\n",
       "    if (typeof(WebSocket) !== 'undefined') {\n",
       "        return WebSocket;\n",
       "    } else if (typeof(MozWebSocket) !== 'undefined') {\n",
       "        return MozWebSocket;\n",
       "    } else {\n",
       "        alert('Your browser does not have WebSocket support.' +\n",
       "              'Please try Chrome, Safari or Firefox ≥ 6. ' +\n",
       "              'Firefox 4 and 5 are also supported but you ' +\n",
       "              'have to enable WebSockets in about:config.');\n",
       "    };\n",
       "}\n",
       "\n",
       "mpl.figure = function(figure_id, websocket, ondownload, parent_element) {\n",
       "    this.id = figure_id;\n",
       "\n",
       "    this.ws = websocket;\n",
       "\n",
       "    this.supports_binary = (this.ws.binaryType != undefined);\n",
       "\n",
       "    if (!this.supports_binary) {\n",
       "        var warnings = document.getElementById(\"mpl-warnings\");\n",
       "        if (warnings) {\n",
       "            warnings.style.display = 'block';\n",
       "            warnings.textContent = (\n",
       "                \"This browser does not support binary websocket messages. \" +\n",
       "                    \"Performance may be slow.\");\n",
       "        }\n",
       "    }\n",
       "\n",
       "    this.imageObj = new Image();\n",
       "\n",
       "    this.context = undefined;\n",
       "    this.message = undefined;\n",
       "    this.canvas = undefined;\n",
       "    this.rubberband_canvas = undefined;\n",
       "    this.rubberband_context = undefined;\n",
       "    this.format_dropdown = undefined;\n",
       "\n",
       "    this.image_mode = 'full';\n",
       "\n",
       "    this.root = $('<div/>');\n",
       "    this._root_extra_style(this.root)\n",
       "    this.root.attr('style', 'display: inline-block');\n",
       "\n",
       "    $(parent_element).append(this.root);\n",
       "\n",
       "    this._init_header(this);\n",
       "    this._init_canvas(this);\n",
       "    this._init_toolbar(this);\n",
       "\n",
       "    var fig = this;\n",
       "\n",
       "    this.waiting = false;\n",
       "\n",
       "    this.ws.onopen =  function () {\n",
       "            fig.send_message(\"supports_binary\", {value: fig.supports_binary});\n",
       "            fig.send_message(\"send_image_mode\", {});\n",
       "            if (mpl.ratio != 1) {\n",
       "                fig.send_message(\"set_dpi_ratio\", {'dpi_ratio': mpl.ratio});\n",
       "            }\n",
       "            fig.send_message(\"refresh\", {});\n",
       "        }\n",
       "\n",
       "    this.imageObj.onload = function() {\n",
       "            if (fig.image_mode == 'full') {\n",
       "                // Full images could contain transparency (where diff images\n",
       "                // almost always do), so we need to clear the canvas so that\n",
       "                // there is no ghosting.\n",
       "                fig.context.clearRect(0, 0, fig.canvas.width, fig.canvas.height);\n",
       "            }\n",
       "            fig.context.drawImage(fig.imageObj, 0, 0);\n",
       "        };\n",
       "\n",
       "    this.imageObj.onunload = function() {\n",
       "        fig.ws.close();\n",
       "    }\n",
       "\n",
       "    this.ws.onmessage = this._make_on_message_function(this);\n",
       "\n",
       "    this.ondownload = ondownload;\n",
       "}\n",
       "\n",
       "mpl.figure.prototype._init_header = function() {\n",
       "    var titlebar = $(\n",
       "        '<div class=\"ui-dialog-titlebar ui-widget-header ui-corner-all ' +\n",
       "        'ui-helper-clearfix\"/>');\n",
       "    var titletext = $(\n",
       "        '<div class=\"ui-dialog-title\" style=\"width: 100%; ' +\n",
       "        'text-align: center; padding: 3px;\"/>');\n",
       "    titlebar.append(titletext)\n",
       "    this.root.append(titlebar);\n",
       "    this.header = titletext[0];\n",
       "}\n",
       "\n",
       "\n",
       "\n",
       "mpl.figure.prototype._canvas_extra_style = function(canvas_div) {\n",
       "\n",
       "}\n",
       "\n",
       "\n",
       "mpl.figure.prototype._root_extra_style = function(canvas_div) {\n",
       "\n",
       "}\n",
       "\n",
       "mpl.figure.prototype._init_canvas = function() {\n",
       "    var fig = this;\n",
       "\n",
       "    var canvas_div = $('<div/>');\n",
       "\n",
       "    canvas_div.attr('style', 'position: relative; clear: both; outline: 0');\n",
       "\n",
       "    function canvas_keyboard_event(event) {\n",
       "        return fig.key_event(event, event['data']);\n",
       "    }\n",
       "\n",
       "    canvas_div.keydown('key_press', canvas_keyboard_event);\n",
       "    canvas_div.keyup('key_release', canvas_keyboard_event);\n",
       "    this.canvas_div = canvas_div\n",
       "    this._canvas_extra_style(canvas_div)\n",
       "    this.root.append(canvas_div);\n",
       "\n",
       "    var canvas = $('<canvas/>');\n",
       "    canvas.addClass('mpl-canvas');\n",
       "    canvas.attr('style', \"left: 0; top: 0; z-index: 0; outline: 0\")\n",
       "\n",
       "    this.canvas = canvas[0];\n",
       "    this.context = canvas[0].getContext(\"2d\");\n",
       "\n",
       "    var backingStore = this.context.backingStorePixelRatio ||\n",
       "\tthis.context.webkitBackingStorePixelRatio ||\n",
       "\tthis.context.mozBackingStorePixelRatio ||\n",
       "\tthis.context.msBackingStorePixelRatio ||\n",
       "\tthis.context.oBackingStorePixelRatio ||\n",
       "\tthis.context.backingStorePixelRatio || 1;\n",
       "\n",
       "    mpl.ratio = (window.devicePixelRatio || 1) / backingStore;\n",
       "\n",
       "    var rubberband = $('<canvas/>');\n",
       "    rubberband.attr('style', \"position: absolute; left: 0; top: 0; z-index: 1;\")\n",
       "\n",
       "    var pass_mouse_events = true;\n",
       "\n",
       "    canvas_div.resizable({\n",
       "        start: function(event, ui) {\n",
       "            pass_mouse_events = false;\n",
       "        },\n",
       "        resize: function(event, ui) {\n",
       "            fig.request_resize(ui.size.width, ui.size.height);\n",
       "        },\n",
       "        stop: function(event, ui) {\n",
       "            pass_mouse_events = true;\n",
       "            fig.request_resize(ui.size.width, ui.size.height);\n",
       "        },\n",
       "    });\n",
       "\n",
       "    function mouse_event_fn(event) {\n",
       "        if (pass_mouse_events)\n",
       "            return fig.mouse_event(event, event['data']);\n",
       "    }\n",
       "\n",
       "    rubberband.mousedown('button_press', mouse_event_fn);\n",
       "    rubberband.mouseup('button_release', mouse_event_fn);\n",
       "    // Throttle sequential mouse events to 1 every 20ms.\n",
       "    rubberband.mousemove('motion_notify', mouse_event_fn);\n",
       "\n",
       "    rubberband.mouseenter('figure_enter', mouse_event_fn);\n",
       "    rubberband.mouseleave('figure_leave', mouse_event_fn);\n",
       "\n",
       "    canvas_div.on(\"wheel\", function (event) {\n",
       "        event = event.originalEvent;\n",
       "        event['data'] = 'scroll'\n",
       "        if (event.deltaY < 0) {\n",
       "            event.step = 1;\n",
       "        } else {\n",
       "            event.step = -1;\n",
       "        }\n",
       "        mouse_event_fn(event);\n",
       "    });\n",
       "\n",
       "    canvas_div.append(canvas);\n",
       "    canvas_div.append(rubberband);\n",
       "\n",
       "    this.rubberband = rubberband;\n",
       "    this.rubberband_canvas = rubberband[0];\n",
       "    this.rubberband_context = rubberband[0].getContext(\"2d\");\n",
       "    this.rubberband_context.strokeStyle = \"#000000\";\n",
       "\n",
       "    this._resize_canvas = function(width, height) {\n",
       "        // Keep the size of the canvas, canvas container, and rubber band\n",
       "        // canvas in synch.\n",
       "        canvas_div.css('width', width)\n",
       "        canvas_div.css('height', height)\n",
       "\n",
       "        canvas.attr('width', width * mpl.ratio);\n",
       "        canvas.attr('height', height * mpl.ratio);\n",
       "        canvas.attr('style', 'width: ' + width + 'px; height: ' + height + 'px;');\n",
       "\n",
       "        rubberband.attr('width', width);\n",
       "        rubberband.attr('height', height);\n",
       "    }\n",
       "\n",
       "    // Set the figure to an initial 600x600px, this will subsequently be updated\n",
       "    // upon first draw.\n",
       "    this._resize_canvas(600, 600);\n",
       "\n",
       "    // Disable right mouse context menu.\n",
       "    $(this.rubberband_canvas).bind(\"contextmenu\",function(e){\n",
       "        return false;\n",
       "    });\n",
       "\n",
       "    function set_focus () {\n",
       "        canvas.focus();\n",
       "        canvas_div.focus();\n",
       "    }\n",
       "\n",
       "    window.setTimeout(set_focus, 100);\n",
       "}\n",
       "\n",
       "mpl.figure.prototype._init_toolbar = function() {\n",
       "    var fig = this;\n",
       "\n",
       "    var nav_element = $('<div/>')\n",
       "    nav_element.attr('style', 'width: 100%');\n",
       "    this.root.append(nav_element);\n",
       "\n",
       "    // Define a callback function for later on.\n",
       "    function toolbar_event(event) {\n",
       "        return fig.toolbar_button_onclick(event['data']);\n",
       "    }\n",
       "    function toolbar_mouse_event(event) {\n",
       "        return fig.toolbar_button_onmouseover(event['data']);\n",
       "    }\n",
       "\n",
       "    for(var toolbar_ind in mpl.toolbar_items) {\n",
       "        var name = mpl.toolbar_items[toolbar_ind][0];\n",
       "        var tooltip = mpl.toolbar_items[toolbar_ind][1];\n",
       "        var image = mpl.toolbar_items[toolbar_ind][2];\n",
       "        var method_name = mpl.toolbar_items[toolbar_ind][3];\n",
       "\n",
       "        if (!name) {\n",
       "            // put a spacer in here.\n",
       "            continue;\n",
       "        }\n",
       "        var button = $('<button/>');\n",
       "        button.addClass('ui-button ui-widget ui-state-default ui-corner-all ' +\n",
       "                        'ui-button-icon-only');\n",
       "        button.attr('role', 'button');\n",
       "        button.attr('aria-disabled', 'false');\n",
       "        button.click(method_name, toolbar_event);\n",
       "        button.mouseover(tooltip, toolbar_mouse_event);\n",
       "\n",
       "        var icon_img = $('<span/>');\n",
       "        icon_img.addClass('ui-button-icon-primary ui-icon');\n",
       "        icon_img.addClass(image);\n",
       "        icon_img.addClass('ui-corner-all');\n",
       "\n",
       "        var tooltip_span = $('<span/>');\n",
       "        tooltip_span.addClass('ui-button-text');\n",
       "        tooltip_span.html(tooltip);\n",
       "\n",
       "        button.append(icon_img);\n",
       "        button.append(tooltip_span);\n",
       "\n",
       "        nav_element.append(button);\n",
       "    }\n",
       "\n",
       "    var fmt_picker_span = $('<span/>');\n",
       "\n",
       "    var fmt_picker = $('<select/>');\n",
       "    fmt_picker.addClass('mpl-toolbar-option ui-widget ui-widget-content');\n",
       "    fmt_picker_span.append(fmt_picker);\n",
       "    nav_element.append(fmt_picker_span);\n",
       "    this.format_dropdown = fmt_picker[0];\n",
       "\n",
       "    for (var ind in mpl.extensions) {\n",
       "        var fmt = mpl.extensions[ind];\n",
       "        var option = $(\n",
       "            '<option/>', {selected: fmt === mpl.default_extension}).html(fmt);\n",
       "        fmt_picker.append(option)\n",
       "    }\n",
       "\n",
       "    // Add hover states to the ui-buttons\n",
       "    $( \".ui-button\" ).hover(\n",
       "        function() { $(this).addClass(\"ui-state-hover\");},\n",
       "        function() { $(this).removeClass(\"ui-state-hover\");}\n",
       "    );\n",
       "\n",
       "    var status_bar = $('<span class=\"mpl-message\"/>');\n",
       "    nav_element.append(status_bar);\n",
       "    this.message = status_bar[0];\n",
       "}\n",
       "\n",
       "mpl.figure.prototype.request_resize = function(x_pixels, y_pixels) {\n",
       "    // Request matplotlib to resize the figure. Matplotlib will then trigger a resize in the client,\n",
       "    // which will in turn request a refresh of the image.\n",
       "    this.send_message('resize', {'width': x_pixels, 'height': y_pixels});\n",
       "}\n",
       "\n",
       "mpl.figure.prototype.send_message = function(type, properties) {\n",
       "    properties['type'] = type;\n",
       "    properties['figure_id'] = this.id;\n",
       "    this.ws.send(JSON.stringify(properties));\n",
       "}\n",
       "\n",
       "mpl.figure.prototype.send_draw_message = function() {\n",
       "    if (!this.waiting) {\n",
       "        this.waiting = true;\n",
       "        this.ws.send(JSON.stringify({type: \"draw\", figure_id: this.id}));\n",
       "    }\n",
       "}\n",
       "\n",
       "\n",
       "mpl.figure.prototype.handle_save = function(fig, msg) {\n",
       "    var format_dropdown = fig.format_dropdown;\n",
       "    var format = format_dropdown.options[format_dropdown.selectedIndex].value;\n",
       "    fig.ondownload(fig, format);\n",
       "}\n",
       "\n",
       "\n",
       "mpl.figure.prototype.handle_resize = function(fig, msg) {\n",
       "    var size = msg['size'];\n",
       "    if (size[0] != fig.canvas.width || size[1] != fig.canvas.height) {\n",
       "        fig._resize_canvas(size[0], size[1]);\n",
       "        fig.send_message(\"refresh\", {});\n",
       "    };\n",
       "}\n",
       "\n",
       "mpl.figure.prototype.handle_rubberband = function(fig, msg) {\n",
       "    var x0 = msg['x0'] / mpl.ratio;\n",
       "    var y0 = (fig.canvas.height - msg['y0']) / mpl.ratio;\n",
       "    var x1 = msg['x1'] / mpl.ratio;\n",
       "    var y1 = (fig.canvas.height - msg['y1']) / mpl.ratio;\n",
       "    x0 = Math.floor(x0) + 0.5;\n",
       "    y0 = Math.floor(y0) + 0.5;\n",
       "    x1 = Math.floor(x1) + 0.5;\n",
       "    y1 = Math.floor(y1) + 0.5;\n",
       "    var min_x = Math.min(x0, x1);\n",
       "    var min_y = Math.min(y0, y1);\n",
       "    var width = Math.abs(x1 - x0);\n",
       "    var height = Math.abs(y1 - y0);\n",
       "\n",
       "    fig.rubberband_context.clearRect(\n",
       "        0, 0, fig.canvas.width, fig.canvas.height);\n",
       "\n",
       "    fig.rubberband_context.strokeRect(min_x, min_y, width, height);\n",
       "}\n",
       "\n",
       "mpl.figure.prototype.handle_figure_label = function(fig, msg) {\n",
       "    // Updates the figure title.\n",
       "    fig.header.textContent = msg['label'];\n",
       "}\n",
       "\n",
       "mpl.figure.prototype.handle_cursor = function(fig, msg) {\n",
       "    var cursor = msg['cursor'];\n",
       "    switch(cursor)\n",
       "    {\n",
       "    case 0:\n",
       "        cursor = 'pointer';\n",
       "        break;\n",
       "    case 1:\n",
       "        cursor = 'default';\n",
       "        break;\n",
       "    case 2:\n",
       "        cursor = 'crosshair';\n",
       "        break;\n",
       "    case 3:\n",
       "        cursor = 'move';\n",
       "        break;\n",
       "    }\n",
       "    fig.rubberband_canvas.style.cursor = cursor;\n",
       "}\n",
       "\n",
       "mpl.figure.prototype.handle_message = function(fig, msg) {\n",
       "    fig.message.textContent = msg['message'];\n",
       "}\n",
       "\n",
       "mpl.figure.prototype.handle_draw = function(fig, msg) {\n",
       "    // Request the server to send over a new figure.\n",
       "    fig.send_draw_message();\n",
       "}\n",
       "\n",
       "mpl.figure.prototype.handle_image_mode = function(fig, msg) {\n",
       "    fig.image_mode = msg['mode'];\n",
       "}\n",
       "\n",
       "mpl.figure.prototype.updated_canvas_event = function() {\n",
       "    // Called whenever the canvas gets updated.\n",
       "    this.send_message(\"ack\", {});\n",
       "}\n",
       "\n",
       "// A function to construct a web socket function for onmessage handling.\n",
       "// Called in the figure constructor.\n",
       "mpl.figure.prototype._make_on_message_function = function(fig) {\n",
       "    return function socket_on_message(evt) {\n",
       "        if (evt.data instanceof Blob) {\n",
       "            /* FIXME: We get \"Resource interpreted as Image but\n",
       "             * transferred with MIME type text/plain:\" errors on\n",
       "             * Chrome.  But how to set the MIME type?  It doesn't seem\n",
       "             * to be part of the websocket stream */\n",
       "            evt.data.type = \"image/png\";\n",
       "\n",
       "            /* Free the memory for the previous frames */\n",
       "            if (fig.imageObj.src) {\n",
       "                (window.URL || window.webkitURL).revokeObjectURL(\n",
       "                    fig.imageObj.src);\n",
       "            }\n",
       "\n",
       "            fig.imageObj.src = (window.URL || window.webkitURL).createObjectURL(\n",
       "                evt.data);\n",
       "            fig.updated_canvas_event();\n",
       "            fig.waiting = false;\n",
       "            return;\n",
       "        }\n",
       "        else if (typeof evt.data === 'string' && evt.data.slice(0, 21) == \"data:image/png;base64\") {\n",
       "            fig.imageObj.src = evt.data;\n",
       "            fig.updated_canvas_event();\n",
       "            fig.waiting = false;\n",
       "            return;\n",
       "        }\n",
       "\n",
       "        var msg = JSON.parse(evt.data);\n",
       "        var msg_type = msg['type'];\n",
       "\n",
       "        // Call the  \"handle_{type}\" callback, which takes\n",
       "        // the figure and JSON message as its only arguments.\n",
       "        try {\n",
       "            var callback = fig[\"handle_\" + msg_type];\n",
       "        } catch (e) {\n",
       "            console.log(\"No handler for the '\" + msg_type + \"' message type: \", msg);\n",
       "            return;\n",
       "        }\n",
       "\n",
       "        if (callback) {\n",
       "            try {\n",
       "                // console.log(\"Handling '\" + msg_type + \"' message: \", msg);\n",
       "                callback(fig, msg);\n",
       "            } catch (e) {\n",
       "                console.log(\"Exception inside the 'handler_\" + msg_type + \"' callback:\", e, e.stack, msg);\n",
       "            }\n",
       "        }\n",
       "    };\n",
       "}\n",
       "\n",
       "// from http://stackoverflow.com/questions/1114465/getting-mouse-location-in-canvas\n",
       "mpl.findpos = function(e) {\n",
       "    //this section is from http://www.quirksmode.org/js/events_properties.html\n",
       "    var targ;\n",
       "    if (!e)\n",
       "        e = window.event;\n",
       "    if (e.target)\n",
       "        targ = e.target;\n",
       "    else if (e.srcElement)\n",
       "        targ = e.srcElement;\n",
       "    if (targ.nodeType == 3) // defeat Safari bug\n",
       "        targ = targ.parentNode;\n",
       "\n",
       "    // jQuery normalizes the pageX and pageY\n",
       "    // pageX,Y are the mouse positions relative to the document\n",
       "    // offset() returns the position of the element relative to the document\n",
       "    var x = e.pageX - $(targ).offset().left;\n",
       "    var y = e.pageY - $(targ).offset().top;\n",
       "\n",
       "    return {\"x\": x, \"y\": y};\n",
       "};\n",
       "\n",
       "/*\n",
       " * return a copy of an object with only non-object keys\n",
       " * we need this to avoid circular references\n",
       " * http://stackoverflow.com/a/24161582/3208463\n",
       " */\n",
       "function simpleKeys (original) {\n",
       "  return Object.keys(original).reduce(function (obj, key) {\n",
       "    if (typeof original[key] !== 'object')\n",
       "        obj[key] = original[key]\n",
       "    return obj;\n",
       "  }, {});\n",
       "}\n",
       "\n",
       "mpl.figure.prototype.mouse_event = function(event, name) {\n",
       "    var canvas_pos = mpl.findpos(event)\n",
       "\n",
       "    if (name === 'button_press')\n",
       "    {\n",
       "        this.canvas.focus();\n",
       "        this.canvas_div.focus();\n",
       "    }\n",
       "\n",
       "    var x = canvas_pos.x * mpl.ratio;\n",
       "    var y = canvas_pos.y * mpl.ratio;\n",
       "\n",
       "    this.send_message(name, {x: x, y: y, button: event.button,\n",
       "                             step: event.step,\n",
       "                             guiEvent: simpleKeys(event)});\n",
       "\n",
       "    /* This prevents the web browser from automatically changing to\n",
       "     * the text insertion cursor when the button is pressed.  We want\n",
       "     * to control all of the cursor setting manually through the\n",
       "     * 'cursor' event from matplotlib */\n",
       "    event.preventDefault();\n",
       "    return false;\n",
       "}\n",
       "\n",
       "mpl.figure.prototype._key_event_extra = function(event, name) {\n",
       "    // Handle any extra behaviour associated with a key event\n",
       "}\n",
       "\n",
       "mpl.figure.prototype.key_event = function(event, name) {\n",
       "\n",
       "    // Prevent repeat events\n",
       "    if (name == 'key_press')\n",
       "    {\n",
       "        if (event.which === this._key)\n",
       "            return;\n",
       "        else\n",
       "            this._key = event.which;\n",
       "    }\n",
       "    if (name == 'key_release')\n",
       "        this._key = null;\n",
       "\n",
       "    var value = '';\n",
       "    if (event.ctrlKey && event.which != 17)\n",
       "        value += \"ctrl+\";\n",
       "    if (event.altKey && event.which != 18)\n",
       "        value += \"alt+\";\n",
       "    if (event.shiftKey && event.which != 16)\n",
       "        value += \"shift+\";\n",
       "\n",
       "    value += 'k';\n",
       "    value += event.which.toString();\n",
       "\n",
       "    this._key_event_extra(event, name);\n",
       "\n",
       "    this.send_message(name, {key: value,\n",
       "                             guiEvent: simpleKeys(event)});\n",
       "    return false;\n",
       "}\n",
       "\n",
       "mpl.figure.prototype.toolbar_button_onclick = function(name) {\n",
       "    if (name == 'download') {\n",
       "        this.handle_save(this, null);\n",
       "    } else {\n",
       "        this.send_message(\"toolbar_button\", {name: name});\n",
       "    }\n",
       "};\n",
       "\n",
       "mpl.figure.prototype.toolbar_button_onmouseover = function(tooltip) {\n",
       "    this.message.textContent = tooltip;\n",
       "};\n",
       "mpl.toolbar_items = [[\"Home\", \"Reset original view\", \"fa fa-home icon-home\", \"home\"], [\"Back\", \"Back to previous view\", \"fa fa-arrow-left icon-arrow-left\", \"back\"], [\"Forward\", \"Forward to next view\", \"fa fa-arrow-right icon-arrow-right\", \"forward\"], [\"\", \"\", \"\", \"\"], [\"Pan\", \"Pan axes with left mouse, zoom with right\", \"fa fa-arrows icon-move\", \"pan\"], [\"Zoom\", \"Zoom to rectangle\", \"fa fa-square-o icon-check-empty\", \"zoom\"], [\"\", \"\", \"\", \"\"], [\"Download\", \"Download plot\", \"fa fa-floppy-o icon-save\", \"download\"]];\n",
       "\n",
       "mpl.extensions = [\"eps\", \"jpeg\", \"pdf\", \"png\", \"ps\", \"raw\", \"svg\", \"tif\"];\n",
       "\n",
       "mpl.default_extension = \"png\";var comm_websocket_adapter = function(comm) {\n",
       "    // Create a \"websocket\"-like object which calls the given IPython comm\n",
       "    // object with the appropriate methods. Currently this is a non binary\n",
       "    // socket, so there is still some room for performance tuning.\n",
       "    var ws = {};\n",
       "\n",
       "    ws.close = function() {\n",
       "        comm.close()\n",
       "    };\n",
       "    ws.send = function(m) {\n",
       "        //console.log('sending', m);\n",
       "        comm.send(m);\n",
       "    };\n",
       "    // Register the callback with on_msg.\n",
       "    comm.on_msg(function(msg) {\n",
       "        //console.log('receiving', msg['content']['data'], msg);\n",
       "        // Pass the mpl event to the overridden (by mpl) onmessage function.\n",
       "        ws.onmessage(msg['content']['data'])\n",
       "    });\n",
       "    return ws;\n",
       "}\n",
       "\n",
       "mpl.mpl_figure_comm = function(comm, msg) {\n",
       "    // This is the function which gets called when the mpl process\n",
       "    // starts-up an IPython Comm through the \"matplotlib\" channel.\n",
       "\n",
       "    var id = msg.content.data.id;\n",
       "    // Get hold of the div created by the display call when the Comm\n",
       "    // socket was opened in Python.\n",
       "    var element = $(\"#\" + id);\n",
       "    var ws_proxy = comm_websocket_adapter(comm)\n",
       "\n",
       "    function ondownload(figure, format) {\n",
       "        window.open(figure.imageObj.src);\n",
       "    }\n",
       "\n",
       "    var fig = new mpl.figure(id, ws_proxy,\n",
       "                           ondownload,\n",
       "                           element.get(0));\n",
       "\n",
       "    // Call onopen now - mpl needs it, as it is assuming we've passed it a real\n",
       "    // web socket which is closed, not our websocket->open comm proxy.\n",
       "    ws_proxy.onopen();\n",
       "\n",
       "    fig.parent_element = element.get(0);\n",
       "    fig.cell_info = mpl.find_output_cell(\"<div id='\" + id + \"'></div>\");\n",
       "    if (!fig.cell_info) {\n",
       "        console.error(\"Failed to find cell for figure\", id, fig);\n",
       "        return;\n",
       "    }\n",
       "\n",
       "    var output_index = fig.cell_info[2]\n",
       "    var cell = fig.cell_info[0];\n",
       "\n",
       "};\n",
       "\n",
       "mpl.figure.prototype.handle_close = function(fig, msg) {\n",
       "    var width = fig.canvas.width/mpl.ratio\n",
       "    fig.root.unbind('remove')\n",
       "\n",
       "    // Update the output cell to use the data from the current canvas.\n",
       "    fig.push_to_output();\n",
       "    var dataURL = fig.canvas.toDataURL();\n",
       "    // Re-enable the keyboard manager in IPython - without this line, in FF,\n",
       "    // the notebook keyboard shortcuts fail.\n",
       "    IPython.keyboard_manager.enable()\n",
       "    $(fig.parent_element).html('<img src=\"' + dataURL + '\" width=\"' + width + '\">');\n",
       "    fig.close_ws(fig, msg);\n",
       "}\n",
       "\n",
       "mpl.figure.prototype.close_ws = function(fig, msg){\n",
       "    fig.send_message('closing', msg);\n",
       "    // fig.ws.close()\n",
       "}\n",
       "\n",
       "mpl.figure.prototype.push_to_output = function(remove_interactive) {\n",
       "    // Turn the data on the canvas into data in the output cell.\n",
       "    var width = this.canvas.width/mpl.ratio\n",
       "    var dataURL = this.canvas.toDataURL();\n",
       "    this.cell_info[1]['text/html'] = '<img src=\"' + dataURL + '\" width=\"' + width + '\">';\n",
       "}\n",
       "\n",
       "mpl.figure.prototype.updated_canvas_event = function() {\n",
       "    // Tell IPython that the notebook contents must change.\n",
       "    IPython.notebook.set_dirty(true);\n",
       "    this.send_message(\"ack\", {});\n",
       "    var fig = this;\n",
       "    // Wait a second, then push the new image to the DOM so\n",
       "    // that it is saved nicely (might be nice to debounce this).\n",
       "    setTimeout(function () { fig.push_to_output() }, 1000);\n",
       "}\n",
       "\n",
       "mpl.figure.prototype._init_toolbar = function() {\n",
       "    var fig = this;\n",
       "\n",
       "    var nav_element = $('<div/>')\n",
       "    nav_element.attr('style', 'width: 100%');\n",
       "    this.root.append(nav_element);\n",
       "\n",
       "    // Define a callback function for later on.\n",
       "    function toolbar_event(event) {\n",
       "        return fig.toolbar_button_onclick(event['data']);\n",
       "    }\n",
       "    function toolbar_mouse_event(event) {\n",
       "        return fig.toolbar_button_onmouseover(event['data']);\n",
       "    }\n",
       "\n",
       "    for(var toolbar_ind in mpl.toolbar_items){\n",
       "        var name = mpl.toolbar_items[toolbar_ind][0];\n",
       "        var tooltip = mpl.toolbar_items[toolbar_ind][1];\n",
       "        var image = mpl.toolbar_items[toolbar_ind][2];\n",
       "        var method_name = mpl.toolbar_items[toolbar_ind][3];\n",
       "\n",
       "        if (!name) { continue; };\n",
       "\n",
       "        var button = $('<button class=\"btn btn-default\" href=\"#\" title=\"' + name + '\"><i class=\"fa ' + image + ' fa-lg\"></i></button>');\n",
       "        button.click(method_name, toolbar_event);\n",
       "        button.mouseover(tooltip, toolbar_mouse_event);\n",
       "        nav_element.append(button);\n",
       "    }\n",
       "\n",
       "    // Add the status bar.\n",
       "    var status_bar = $('<span class=\"mpl-message\" style=\"text-align:right; float: right;\"/>');\n",
       "    nav_element.append(status_bar);\n",
       "    this.message = status_bar[0];\n",
       "\n",
       "    // Add the close button to the window.\n",
       "    var buttongrp = $('<div class=\"btn-group inline pull-right\"></div>');\n",
       "    var button = $('<button class=\"btn btn-mini btn-primary\" href=\"#\" title=\"Stop Interaction\"><i class=\"fa fa-power-off icon-remove icon-large\"></i></button>');\n",
       "    button.click(function (evt) { fig.handle_close(fig, {}); } );\n",
       "    button.mouseover('Stop Interaction', toolbar_mouse_event);\n",
       "    buttongrp.append(button);\n",
       "    var titlebar = this.root.find($('.ui-dialog-titlebar'));\n",
       "    titlebar.prepend(buttongrp);\n",
       "}\n",
       "\n",
       "mpl.figure.prototype._root_extra_style = function(el){\n",
       "    var fig = this\n",
       "    el.on(\"remove\", function(){\n",
       "\tfig.close_ws(fig, {});\n",
       "    });\n",
       "}\n",
       "\n",
       "mpl.figure.prototype._canvas_extra_style = function(el){\n",
       "    // this is important to make the div 'focusable\n",
       "    el.attr('tabindex', 0)\n",
       "    // reach out to IPython and tell the keyboard manager to turn it's self\n",
       "    // off when our div gets focus\n",
       "\n",
       "    // location in version 3\n",
       "    if (IPython.notebook.keyboard_manager) {\n",
       "        IPython.notebook.keyboard_manager.register_events(el);\n",
       "    }\n",
       "    else {\n",
       "        // location in version 2\n",
       "        IPython.keyboard_manager.register_events(el);\n",
       "    }\n",
       "\n",
       "}\n",
       "\n",
       "mpl.figure.prototype._key_event_extra = function(event, name) {\n",
       "    var manager = IPython.notebook.keyboard_manager;\n",
       "    if (!manager)\n",
       "        manager = IPython.keyboard_manager;\n",
       "\n",
       "    // Check for shift+enter\n",
       "    if (event.shiftKey && event.which == 13) {\n",
       "        this.canvas_div.blur();\n",
       "        event.shiftKey = false;\n",
       "        // Send a \"J\" for go to next cell\n",
       "        event.which = 74;\n",
       "        event.keyCode = 74;\n",
       "        manager.command_mode();\n",
       "        manager.handle_keydown(event);\n",
       "    }\n",
       "}\n",
       "\n",
       "mpl.figure.prototype.handle_save = function(fig, msg) {\n",
       "    fig.ondownload(fig, null);\n",
       "}\n",
       "\n",
       "\n",
       "mpl.find_output_cell = function(html_output) {\n",
       "    // Return the cell and output element which can be found *uniquely* in the notebook.\n",
       "    // Note - this is a bit hacky, but it is done because the \"notebook_saving.Notebook\"\n",
       "    // IPython event is triggered only after the cells have been serialised, which for\n",
       "    // our purposes (turning an active figure into a static one), is too late.\n",
       "    var cells = IPython.notebook.get_cells();\n",
       "    var ncells = cells.length;\n",
       "    for (var i=0; i<ncells; i++) {\n",
       "        var cell = cells[i];\n",
       "        if (cell.cell_type === 'code'){\n",
       "            for (var j=0; j<cell.output_area.outputs.length; j++) {\n",
       "                var data = cell.output_area.outputs[j];\n",
       "                if (data.data) {\n",
       "                    // IPython >= 3 moved mimebundle to data attribute of output\n",
       "                    data = data.data;\n",
       "                }\n",
       "                if (data['text/html'] == html_output) {\n",
       "                    return [cell, data, j];\n",
       "                }\n",
       "            }\n",
       "        }\n",
       "    }\n",
       "}\n",
       "\n",
       "// Register the function which deals with the matplotlib target/channel.\n",
       "// The kernel may be null if the page has been refreshed.\n",
       "if (IPython.notebook.kernel != null) {\n",
       "    IPython.notebook.kernel.comm_manager.register_target('matplotlib', mpl.mpl_figure_comm);\n",
       "}\n"
      ],
      "text/plain": [
       "<IPython.core.display.Javascript object>"
      ]
     },
     "metadata": {},
     "output_type": "display_data"
    },
    {
     "data": {
      "text/html": [
       "<img src=\"data:image/png;base64,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\" width=\"640\">"
      ],
      "text/plain": [
       "<IPython.core.display.HTML object>"
      ]
     },
     "metadata": {},
     "output_type": "display_data"
    }
   ],
   "source": [
    "fig = plt.figure()\n",
    "ax = fig.add_subplot(111)\n",
    "\n",
    "ax.plot(x,y)\n",
    "plt.show()"
   ]
  },
  {
   "cell_type": "code",
   "execution_count": 4,
   "metadata": {},
   "outputs": [],
   "source": [
    "# 一度指定した出力方法の変更にはカーネルの再起動が必要"
   ]
  },
  {
   "cell_type": "code",
   "execution_count": null,
   "metadata": {},
   "outputs": [],
   "source": []
  }
 ],
 "metadata": {
  "kernelspec": {
   "display_name": "Python 3",
   "language": "python",
   "name": "python3"
  },
  "language_info": {
   "codemirror_mode": {
    "name": "ipython",
    "version": 3
   },
   "file_extension": ".py",
   "mimetype": "text/x-python",
   "name": "python",
   "nbconvert_exporter": "python",
   "pygments_lexer": "ipython3",
   "version": "3.7.1"
  }
 },
 "nbformat": 4,
 "nbformat_minor": 2
}
